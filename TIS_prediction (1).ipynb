{
 "cells": [
  {
   "cell_type": "code",
   "execution_count": 27,
   "metadata": {},
   "outputs": [],
   "source": [
    "\n",
    "#PREDICTING TRANSLATION INITIATION SITES FROM GENOMIC SEQUENCES\n",
    "\n"
   ]
  },
  {
   "cell_type": "code",
   "execution_count": 28,
   "metadata": {},
   "outputs": [],
   "source": [
    "import pandas as pd\n",
    "import numpy as np\n",
    "import itertools\n",
    "import pandas as pd\n",
    "from sklearn.ensemble import RandomForestClassifier\n"
   ]
  },
  {
   "cell_type": "code",
   "execution_count": 29,
   "metadata": {},
   "outputs": [],
   "source": [
    "data1 = pd.read_csv(\"mmc1.csv\")"
   ]
  },
  {
   "cell_type": "code",
   "execution_count": 30,
   "metadata": {},
   "outputs": [
    {
     "data": {
      "text/html": [
       "<div>\n",
       "<style scoped>\n",
       "    .dataframe tbody tr th:only-of-type {\n",
       "        vertical-align: middle;\n",
       "    }\n",
       "\n",
       "    .dataframe tbody tr th {\n",
       "        vertical-align: top;\n",
       "    }\n",
       "\n",
       "    .dataframe thead th {\n",
       "        text-align: right;\n",
       "    }\n",
       "</style>\n",
       "<table border=\"1\" class=\"dataframe\">\n",
       "  <thead>\n",
       "    <tr style=\"text-align: right;\">\n",
       "      <th></th>\n",
       "      <th>Sequence</th>\n",
       "      <th>Label</th>\n",
       "    </tr>\n",
       "  </thead>\n",
       "  <tbody>\n",
       "    <tr>\n",
       "      <th>0</th>\n",
       "      <td>GATCCCTGCGGCGTTCGCGAGGGTGGGACGGGAAGCGGGCTGGGAA...</td>\n",
       "      <td>True</td>\n",
       "    </tr>\n",
       "    <tr>\n",
       "      <th>1</th>\n",
       "      <td>GTCACTGCCCTCGCGGCCAATCCAAGGGCTGCGCGCGTGTCCCTTA...</td>\n",
       "      <td>True</td>\n",
       "    </tr>\n",
       "    <tr>\n",
       "      <th>2</th>\n",
       "      <td>GTCACTGTCCTCGGGGCCAATCCAAGGGCTGCGCGCGTGTCCCTTA...</td>\n",
       "      <td>True</td>\n",
       "    </tr>\n",
       "    <tr>\n",
       "      <th>3</th>\n",
       "      <td>GCGGAAAACGGCAGGAGGAGAGCCAATCCCGAGGGTCGGCGGACGC...</td>\n",
       "      <td>True</td>\n",
       "    </tr>\n",
       "    <tr>\n",
       "      <th>4</th>\n",
       "      <td>TCGGCGGTGGAACCGCCAGTCCGGGGTCACAGAGCTTGAGAAGCGA...</td>\n",
       "      <td>True</td>\n",
       "    </tr>\n",
       "  </tbody>\n",
       "</table>\n",
       "</div>"
      ],
      "text/plain": [
       "                                            Sequence  Label\n",
       "0  GATCCCTGCGGCGTTCGCGAGGGTGGGACGGGAAGCGGGCTGGGAA...   True\n",
       "1  GTCACTGCCCTCGCGGCCAATCCAAGGGCTGCGCGCGTGTCCCTTA...   True\n",
       "2  GTCACTGTCCTCGGGGCCAATCCAAGGGCTGCGCGCGTGTCCCTTA...   True\n",
       "3  GCGGAAAACGGCAGGAGGAGAGCCAATCCCGAGGGTCGGCGGACGC...   True\n",
       "4  TCGGCGGTGGAACCGCCAGTCCGGGGTCACAGAGCTTGAGAAGCGA...   True"
      ]
     },
     "execution_count": 30,
     "metadata": {},
     "output_type": "execute_result"
    }
   ],
   "source": [
    "data1.head()"
   ]
  },
  {
   "cell_type": "code",
   "execution_count": 31,
   "metadata": {},
   "outputs": [
    {
     "name": "stdout",
     "output_type": "stream",
     "text": [
      "<class 'pandas.core.frame.DataFrame'>\n",
      "RangeIndex: 2318 entries, 0 to 2317\n",
      "Data columns (total 2 columns):\n",
      " #   Column    Non-Null Count  Dtype \n",
      "---  ------    --------------  ----- \n",
      " 0   Sequence  2318 non-null   object\n",
      " 1   Label     2318 non-null   bool  \n",
      "dtypes: bool(1), object(1)\n",
      "memory usage: 20.5+ KB\n"
     ]
    }
   ],
   "source": [
    "data1.info()"
   ]
  },
  {
   "cell_type": "code",
   "execution_count": 32,
   "metadata": {},
   "outputs": [],
   "source": [
    "# check len of sequence in each row\n",
    "\n",
    "def len_seq(sequence):\n",
    "    return len(sequence)\n",
    "data1['len'] = data1['Sequence'].apply(len_seq)\n",
    "\n",
    "# remove gaps from sequence\n",
    "\n",
    "def remove_gaps(sequence):\n",
    "    return sequence.replace(' ','')\n",
    "data1['Sequence'] = data1['Sequence'].apply(remove_gaps)"
   ]
  },
  {
   "cell_type": "code",
   "execution_count": 33,
   "metadata": {},
   "outputs": [
    {
     "data": {
      "text/html": [
       "<div>\n",
       "<style scoped>\n",
       "    .dataframe tbody tr th:only-of-type {\n",
       "        vertical-align: middle;\n",
       "    }\n",
       "\n",
       "    .dataframe tbody tr th {\n",
       "        vertical-align: top;\n",
       "    }\n",
       "\n",
       "    .dataframe thead th {\n",
       "        text-align: right;\n",
       "    }\n",
       "</style>\n",
       "<table border=\"1\" class=\"dataframe\">\n",
       "  <thead>\n",
       "    <tr style=\"text-align: right;\">\n",
       "      <th></th>\n",
       "      <th>Sequence</th>\n",
       "      <th>Label</th>\n",
       "      <th>len</th>\n",
       "    </tr>\n",
       "  </thead>\n",
       "  <tbody>\n",
       "    <tr>\n",
       "      <th>0</th>\n",
       "      <td>GATCCCTGCGGCGTTCGCGAGGGTGGGACGGGAAGCGGGCTGGGAA...</td>\n",
       "      <td>True</td>\n",
       "      <td>399</td>\n",
       "    </tr>\n",
       "    <tr>\n",
       "      <th>1</th>\n",
       "      <td>GTCACTGCCCTCGCGGCCAATCCAAGGGCTGCGCGCGTGTCCCTTA...</td>\n",
       "      <td>True</td>\n",
       "      <td>399</td>\n",
       "    </tr>\n",
       "    <tr>\n",
       "      <th>2</th>\n",
       "      <td>GTCACTGTCCTCGGGGCCAATCCAAGGGCTGCGCGCGTGTCCCTTA...</td>\n",
       "      <td>True</td>\n",
       "      <td>399</td>\n",
       "    </tr>\n",
       "    <tr>\n",
       "      <th>3</th>\n",
       "      <td>GCGGAAAACGGCAGGAGGAGAGCCAATCCCGAGGGTCGGCGGACGC...</td>\n",
       "      <td>True</td>\n",
       "      <td>399</td>\n",
       "    </tr>\n",
       "    <tr>\n",
       "      <th>4</th>\n",
       "      <td>TCGGCGGTGGAACCGCCAGTCCGGGGTCACAGAGCTTGAGAAGCGA...</td>\n",
       "      <td>True</td>\n",
       "      <td>399</td>\n",
       "    </tr>\n",
       "  </tbody>\n",
       "</table>\n",
       "</div>"
      ],
      "text/plain": [
       "                                            Sequence  Label  len\n",
       "0  GATCCCTGCGGCGTTCGCGAGGGTGGGACGGGAAGCGGGCTGGGAA...   True  399\n",
       "1  GTCACTGCCCTCGCGGCCAATCCAAGGGCTGCGCGCGTGTCCCTTA...   True  399\n",
       "2  GTCACTGTCCTCGGGGCCAATCCAAGGGCTGCGCGCGTGTCCCTTA...   True  399\n",
       "3  GCGGAAAACGGCAGGAGGAGAGCCAATCCCGAGGGTCGGCGGACGC...   True  399\n",
       "4  TCGGCGGTGGAACCGCCAGTCCGGGGTCACAGAGCTTGAGAAGCGA...   True  399"
      ]
     },
     "execution_count": 33,
     "metadata": {},
     "output_type": "execute_result"
    }
   ],
   "source": [
    "data1.head()"
   ]
  },
  {
   "cell_type": "code",
   "execution_count": 34,
   "metadata": {},
   "outputs": [
    {
     "data": {
      "text/plain": [
       "array([399], dtype=int64)"
      ]
     },
     "execution_count": 34,
     "metadata": {},
     "output_type": "execute_result"
    }
   ],
   "source": [
    "# see unique values in len column\n",
    "data1['len'].unique()"
   ]
  },
  {
   "cell_type": "code",
   "execution_count": 35,
   "metadata": {},
   "outputs": [
    {
     "data": {
      "text/plain": [
       "Sequence    0\n",
       "Label       0\n",
       "len         0\n",
       "dtype: int64"
      ]
     },
     "execution_count": 35,
     "metadata": {},
     "output_type": "execute_result"
    }
   ],
   "source": [
    "# check if there are null values in the dataset\n",
    "data1.isnull().sum()\n"
   ]
  },
  {
   "cell_type": "code",
   "execution_count": 36,
   "metadata": {},
   "outputs": [],
   "source": [
    "# removing null values\n",
    "data1.dropna(inplace=True)"
   ]
  },
  {
   "cell_type": "code",
   "execution_count": null,
   "metadata": {},
   "outputs": [],
   "source": []
  },
  {
   "cell_type": "code",
   "execution_count": 37,
   "metadata": {},
   "outputs": [],
   "source": [
    "# remove duplicates from the dataset\n",
    "data1[\"Sequence\"].drop_duplicates(inplace=True)"
   ]
  },
  {
   "cell_type": "code",
   "execution_count": 38,
   "metadata": {},
   "outputs": [
    {
     "data": {
      "text/plain": [
       "1"
      ]
     },
     "execution_count": 38,
     "metadata": {},
     "output_type": "execute_result"
    }
   ],
   "source": [
    "# check if there are any duplicates in the sequence column\n",
    "data1['Sequence'].duplicated().sum()\n"
   ]
  },
  {
   "cell_type": "code",
   "execution_count": 39,
   "metadata": {},
   "outputs": [
    {
     "name": "stdout",
     "output_type": "stream",
     "text": [
      "<class 'pandas.core.frame.DataFrame'>\n",
      "Int64Index: 2318 entries, 0 to 2317\n",
      "Data columns (total 4 columns):\n",
      " #   Column    Non-Null Count  Dtype \n",
      "---  ------    --------------  ----- \n",
      " 0   Sequence  2318 non-null   object\n",
      " 1   Label     2318 non-null   bool  \n",
      " 2   len       2318 non-null   int64 \n",
      " 3   h         2318 non-null   bool  \n",
      "dtypes: bool(2), int64(1), object(1)\n",
      "memory usage: 58.9+ KB\n"
     ]
    }
   ],
   "source": [
    "# remove the sequence if there are any other nucleotides other than A,T,C,G\n",
    "\n",
    "def check_seq(sequence):\n",
    "    for i in sequence:\n",
    "        if i not in ['A','T','C','G']:\n",
    "            return False\n",
    "    return True\n",
    "\n",
    "data1[\"h\"] = data1['Sequence'].apply(check_seq)\n",
    "\n",
    "# remove the sequence if there are any other nucleotides other than A,T,C,G\n",
    "data1 = data1[data1['Sequence'].apply(check_seq)]\n",
    "data1[data1['h']==False]\n",
    "data1.info()\n"
   ]
  },
  {
   "cell_type": "code",
   "execution_count": 40,
   "metadata": {},
   "outputs": [],
   "source": [
    "# C2 encoding of sequence\n",
    "def C2_encoding(sequence):\n",
    "    encoding = []\n",
    "    for i in sequence:\n",
    "        if i == 'A':\n",
    "            encoding.append([0,0])\n",
    "        elif i == 'C':\n",
    "            encoding.append([0,1])\n",
    "        elif i == 'G':\n",
    "            encoding.append([1,0])\n",
    "        elif i == 'T':\n",
    "            encoding.append([1,1])\n",
    "    return encoding\n"
   ]
  },
  {
   "cell_type": "code",
   "execution_count": 41,
   "metadata": {},
   "outputs": [],
   "source": [
    "data1['C2_encoding'] = data1['Sequence'].apply(C2_encoding)"
   ]
  },
  {
   "cell_type": "code",
   "execution_count": 42,
   "metadata": {},
   "outputs": [
    {
     "data": {
      "text/html": [
       "<div>\n",
       "<style scoped>\n",
       "    .dataframe tbody tr th:only-of-type {\n",
       "        vertical-align: middle;\n",
       "    }\n",
       "\n",
       "    .dataframe tbody tr th {\n",
       "        vertical-align: top;\n",
       "    }\n",
       "\n",
       "    .dataframe thead th {\n",
       "        text-align: right;\n",
       "    }\n",
       "</style>\n",
       "<table border=\"1\" class=\"dataframe\">\n",
       "  <thead>\n",
       "    <tr style=\"text-align: right;\">\n",
       "      <th></th>\n",
       "      <th>Sequence</th>\n",
       "      <th>Label</th>\n",
       "      <th>len</th>\n",
       "      <th>h</th>\n",
       "      <th>C2_encoding</th>\n",
       "    </tr>\n",
       "  </thead>\n",
       "  <tbody>\n",
       "    <tr>\n",
       "      <th>0</th>\n",
       "      <td>GATCCCTGCGGCGTTCGCGAGGGTGGGACGGGAAGCGGGCTGGGAA...</td>\n",
       "      <td>True</td>\n",
       "      <td>399</td>\n",
       "      <td>True</td>\n",
       "      <td>[[1, 0], [0, 0], [1, 1], [0, 1], [0, 1], [0, 1...</td>\n",
       "    </tr>\n",
       "    <tr>\n",
       "      <th>1</th>\n",
       "      <td>GTCACTGCCCTCGCGGCCAATCCAAGGGCTGCGCGCGTGTCCCTTA...</td>\n",
       "      <td>True</td>\n",
       "      <td>399</td>\n",
       "      <td>True</td>\n",
       "      <td>[[1, 0], [1, 1], [0, 1], [0, 0], [0, 1], [1, 1...</td>\n",
       "    </tr>\n",
       "    <tr>\n",
       "      <th>2</th>\n",
       "      <td>GTCACTGTCCTCGGGGCCAATCCAAGGGCTGCGCGCGTGTCCCTTA...</td>\n",
       "      <td>True</td>\n",
       "      <td>399</td>\n",
       "      <td>True</td>\n",
       "      <td>[[1, 0], [1, 1], [0, 1], [0, 0], [0, 1], [1, 1...</td>\n",
       "    </tr>\n",
       "    <tr>\n",
       "      <th>3</th>\n",
       "      <td>GCGGAAAACGGCAGGAGGAGAGCCAATCCCGAGGGTCGGCGGACGC...</td>\n",
       "      <td>True</td>\n",
       "      <td>399</td>\n",
       "      <td>True</td>\n",
       "      <td>[[1, 0], [0, 1], [1, 0], [1, 0], [0, 0], [0, 0...</td>\n",
       "    </tr>\n",
       "    <tr>\n",
       "      <th>4</th>\n",
       "      <td>TCGGCGGTGGAACCGCCAGTCCGGGGTCACAGAGCTTGAGAAGCGA...</td>\n",
       "      <td>True</td>\n",
       "      <td>399</td>\n",
       "      <td>True</td>\n",
       "      <td>[[1, 1], [0, 1], [1, 0], [1, 0], [0, 1], [1, 0...</td>\n",
       "    </tr>\n",
       "  </tbody>\n",
       "</table>\n",
       "</div>"
      ],
      "text/plain": [
       "                                            Sequence  Label  len     h  \\\n",
       "0  GATCCCTGCGGCGTTCGCGAGGGTGGGACGGGAAGCGGGCTGGGAA...   True  399  True   \n",
       "1  GTCACTGCCCTCGCGGCCAATCCAAGGGCTGCGCGCGTGTCCCTTA...   True  399  True   \n",
       "2  GTCACTGTCCTCGGGGCCAATCCAAGGGCTGCGCGCGTGTCCCTTA...   True  399  True   \n",
       "3  GCGGAAAACGGCAGGAGGAGAGCCAATCCCGAGGGTCGGCGGACGC...   True  399  True   \n",
       "4  TCGGCGGTGGAACCGCCAGTCCGGGGTCACAGAGCTTGAGAAGCGA...   True  399  True   \n",
       "\n",
       "                                         C2_encoding  \n",
       "0  [[1, 0], [0, 0], [1, 1], [0, 1], [0, 1], [0, 1...  \n",
       "1  [[1, 0], [1, 1], [0, 1], [0, 0], [0, 1], [1, 1...  \n",
       "2  [[1, 0], [1, 1], [0, 1], [0, 0], [0, 1], [1, 1...  \n",
       "3  [[1, 0], [0, 1], [1, 0], [1, 0], [0, 0], [0, 0...  \n",
       "4  [[1, 1], [0, 1], [1, 0], [1, 0], [0, 1], [1, 0...  "
      ]
     },
     "execution_count": 42,
     "metadata": {},
     "output_type": "execute_result"
    }
   ],
   "source": [
    "data1.head()"
   ]
  },
  {
   "cell_type": "code",
   "execution_count": 43,
   "metadata": {},
   "outputs": [
    {
     "data": {
      "text/plain": [
       "True     1159\n",
       "False    1159\n",
       "Name: Label, dtype: int64"
      ]
     },
     "execution_count": 43,
     "metadata": {},
     "output_type": "execute_result"
    }
   ],
   "source": [
    "data1[\"Label\"].value_counts()\n"
   ]
  },
  {
   "cell_type": "code",
   "execution_count": 44,
   "metadata": {},
   "outputs": [
    {
     "data": {
      "text/plain": [
       "0       [[1, 0], [0, 0], [1, 1], [0, 1], [0, 1], [0, 1...\n",
       "1       [[1, 0], [1, 1], [0, 1], [0, 0], [0, 1], [1, 1...\n",
       "2       [[1, 0], [1, 1], [0, 1], [0, 0], [0, 1], [1, 1...\n",
       "3       [[1, 0], [0, 1], [1, 0], [1, 0], [0, 0], [0, 0...\n",
       "4       [[1, 1], [0, 1], [1, 0], [1, 0], [0, 1], [1, 0...\n",
       "                              ...                        \n",
       "2313    [[0, 0], [1, 0], [1, 0], [0, 0], [1, 0], [0, 0...\n",
       "2314    [[1, 0], [1, 1], [1, 0], [1, 0], [0, 0], [0, 0...\n",
       "2315    [[0, 0], [0, 1], [0, 0], [1, 0], [0, 0], [0, 0...\n",
       "2316    [[0, 0], [0, 0], [1, 1], [0, 1], [1, 1], [1, 0...\n",
       "2317    [[0, 0], [0, 1], [1, 1], [0, 1], [1, 1], [1, 1...\n",
       "Name: C2_encoding, Length: 2318, dtype: object"
      ]
     },
     "execution_count": 44,
     "metadata": {},
     "output_type": "execute_result"
    }
   ],
   "source": [
    "# gapped kmer in the sequence\n",
    "import itertools\n",
    "def gapped_kmer(sequence, k=6, g=2):\n",
    "    encoding = []\n",
    "    freq_dict = {}\n",
    "    for i in range(len(sequence) - k + 1):\n",
    "        encoding.append(sequence[i:i+k])\n",
    "    return encoding, freq_dict\n",
    "\n",
    "def get_kmer_frequencies(seq,k):\n",
    "    freq_dict = {}\n",
    "    l=['A','T','C','G']\n",
    "    repetitions = k\n",
    "    combinations = list(itertools.product(l, repeat=repetitions))\n",
    "    for i in combinations:\n",
    "        se=''.join(list(i))\n",
    "        fo=seq.count(se)\n",
    "        freq_dict[se]=fo\n",
    "    total_kmers = len(seq) - k + 1\n",
    "    for kmer in freq_dict:\n",
    "        freq_dict[kmer] /= total_kmers\n",
    "    return freq_dict\n",
    "\n",
    "    \n",
    "                \n",
    "\n",
    "\n",
    "data1['gapped_kmer'] = data1['Sequence'].apply(gapped_kmer)\n",
    "data1[\"kmer_frequencies_tri\"] = data1[\"Sequence\"].apply(get_kmer_frequencies, k=3)\n",
    "data1[\"kmer_frequencies_di\"] = data1[\"Sequence\"].apply(get_kmer_frequencies, k=2)\n",
    "data1[\"C2_encoding\"]"
   ]
  },
  {
   "cell_type": "code",
   "execution_count": 45,
   "metadata": {},
   "outputs": [],
   "source": [
    "def atg_freq(sequence):\n",
    "    total_atg = sequence.count('ATG')\n",
    "    \n",
    "        \n",
    "    return total_atg\n",
    "def atg_features(sequence):\n",
    "    inframe_atg = 0\n",
    "    for i in range(len(sequence)):\n",
    "        if i % 3 == 0 and sequence[i:i+3] == 'ATG': \n",
    "            inframe_atg += 1\n",
    "    return inframe_atg\n",
    "\n",
    "\n",
    "data1['atg_freq'] = data1['Sequence'].apply(atg_freq)\n",
    "data1[\"atg_features\"]=data1['Sequence'].apply(atg_features)"
   ]
  },
  {
   "cell_type": "code",
   "execution_count": 46,
   "metadata": {},
   "outputs": [
    {
     "data": {
      "text/html": [
       "<div>\n",
       "<style scoped>\n",
       "    .dataframe tbody tr th:only-of-type {\n",
       "        vertical-align: middle;\n",
       "    }\n",
       "\n",
       "    .dataframe tbody tr th {\n",
       "        vertical-align: top;\n",
       "    }\n",
       "\n",
       "    .dataframe thead th {\n",
       "        text-align: right;\n",
       "    }\n",
       "</style>\n",
       "<table border=\"1\" class=\"dataframe\">\n",
       "  <thead>\n",
       "    <tr style=\"text-align: right;\">\n",
       "      <th></th>\n",
       "      <th>Sequence</th>\n",
       "      <th>Label</th>\n",
       "      <th>len</th>\n",
       "      <th>h</th>\n",
       "      <th>C2_encoding</th>\n",
       "      <th>gapped_kmer</th>\n",
       "      <th>atg_freq</th>\n",
       "      <th>atg_features</th>\n",
       "      <th>AA</th>\n",
       "      <th>AT</th>\n",
       "      <th>...</th>\n",
       "      <th>GTC</th>\n",
       "      <th>GTG</th>\n",
       "      <th>GCA</th>\n",
       "      <th>GCT</th>\n",
       "      <th>GCC</th>\n",
       "      <th>GCG</th>\n",
       "      <th>GGA</th>\n",
       "      <th>GGT</th>\n",
       "      <th>GGC</th>\n",
       "      <th>GGG</th>\n",
       "    </tr>\n",
       "  </thead>\n",
       "  <tbody>\n",
       "    <tr>\n",
       "      <th>0</th>\n",
       "      <td>GATCCCTGCGGCGTTCGCGAGGGTGGGACGGGAAGCGGGCTGGGAA...</td>\n",
       "      <td>True</td>\n",
       "      <td>399</td>\n",
       "      <td>True</td>\n",
       "      <td>[[1, 0], [0, 0], [1, 1], [0, 1], [0, 1], [0, 1...</td>\n",
       "      <td>([GATCCC, ATCCCT, TCCCTG, CCCTGC, CCTGCG, CTGC...</td>\n",
       "      <td>2</td>\n",
       "      <td>1</td>\n",
       "      <td>0.022613</td>\n",
       "      <td>0.025126</td>\n",
       "      <td>...</td>\n",
       "      <td>0.017632</td>\n",
       "      <td>0.022670</td>\n",
       "      <td>0.010076</td>\n",
       "      <td>0.027708</td>\n",
       "      <td>0.022670</td>\n",
       "      <td>0.027708</td>\n",
       "      <td>0.027708</td>\n",
       "      <td>0.035264</td>\n",
       "      <td>0.020151</td>\n",
       "      <td>0.052897</td>\n",
       "    </tr>\n",
       "    <tr>\n",
       "      <th>1</th>\n",
       "      <td>GTCACTGCCCTCGCGGCCAATCCAAGGGCTGCGCGCGTGTCCCTTA...</td>\n",
       "      <td>True</td>\n",
       "      <td>399</td>\n",
       "      <td>True</td>\n",
       "      <td>[[1, 0], [1, 1], [0, 1], [0, 0], [0, 1], [1, 1...</td>\n",
       "      <td>([GTCACT, TCACTG, CACTGC, ACTGCC, CTGCCC, TGCC...</td>\n",
       "      <td>2</td>\n",
       "      <td>1</td>\n",
       "      <td>0.027638</td>\n",
       "      <td>0.010050</td>\n",
       "      <td>...</td>\n",
       "      <td>0.017632</td>\n",
       "      <td>0.022670</td>\n",
       "      <td>0.015113</td>\n",
       "      <td>0.015113</td>\n",
       "      <td>0.052897</td>\n",
       "      <td>0.062972</td>\n",
       "      <td>0.022670</td>\n",
       "      <td>0.020151</td>\n",
       "      <td>0.060453</td>\n",
       "      <td>0.030227</td>\n",
       "    </tr>\n",
       "    <tr>\n",
       "      <th>2</th>\n",
       "      <td>GTCACTGTCCTCGGGGCCAATCCAAGGGCTGCGCGCGTGTCCCTTA...</td>\n",
       "      <td>True</td>\n",
       "      <td>399</td>\n",
       "      <td>True</td>\n",
       "      <td>[[1, 0], [1, 1], [0, 1], [0, 0], [0, 1], [1, 1...</td>\n",
       "      <td>([GTCACT, TCACTG, CACTGT, ACTGTC, CTGTCC, TGTC...</td>\n",
       "      <td>2</td>\n",
       "      <td>1</td>\n",
       "      <td>0.027638</td>\n",
       "      <td>0.012563</td>\n",
       "      <td>...</td>\n",
       "      <td>0.015113</td>\n",
       "      <td>0.025189</td>\n",
       "      <td>0.015113</td>\n",
       "      <td>0.017632</td>\n",
       "      <td>0.045340</td>\n",
       "      <td>0.068010</td>\n",
       "      <td>0.022670</td>\n",
       "      <td>0.020151</td>\n",
       "      <td>0.062972</td>\n",
       "      <td>0.035264</td>\n",
       "    </tr>\n",
       "    <tr>\n",
       "      <th>3</th>\n",
       "      <td>GCGGAAAACGGCAGGAGGAGAGCCAATCCCGAGGGTCGGCGGACGC...</td>\n",
       "      <td>True</td>\n",
       "      <td>399</td>\n",
       "      <td>True</td>\n",
       "      <td>[[1, 0], [0, 1], [1, 0], [1, 0], [0, 0], [0, 0...</td>\n",
       "      <td>([GCGGAA, CGGAAA, GGAAAA, GAAAAC, AAAACG, AAAC...</td>\n",
       "      <td>1</td>\n",
       "      <td>1</td>\n",
       "      <td>0.025126</td>\n",
       "      <td>0.010050</td>\n",
       "      <td>...</td>\n",
       "      <td>0.020151</td>\n",
       "      <td>0.020151</td>\n",
       "      <td>0.015113</td>\n",
       "      <td>0.010076</td>\n",
       "      <td>0.040302</td>\n",
       "      <td>0.078086</td>\n",
       "      <td>0.030227</td>\n",
       "      <td>0.035264</td>\n",
       "      <td>0.080605</td>\n",
       "      <td>0.045340</td>\n",
       "    </tr>\n",
       "    <tr>\n",
       "      <th>4</th>\n",
       "      <td>TCGGCGGTGGAACCGCCAGTCCGGGGTCACAGAGCTTGAGAAGCGA...</td>\n",
       "      <td>True</td>\n",
       "      <td>399</td>\n",
       "      <td>True</td>\n",
       "      <td>[[1, 1], [0, 1], [1, 0], [1, 0], [0, 1], [1, 0...</td>\n",
       "      <td>([TCGGCG, CGGCGG, GGCGGT, GCGGTG, CGGTGG, GGTG...</td>\n",
       "      <td>1</td>\n",
       "      <td>1</td>\n",
       "      <td>0.015075</td>\n",
       "      <td>0.012563</td>\n",
       "      <td>...</td>\n",
       "      <td>0.017632</td>\n",
       "      <td>0.010076</td>\n",
       "      <td>0.012594</td>\n",
       "      <td>0.017632</td>\n",
       "      <td>0.068010</td>\n",
       "      <td>0.025189</td>\n",
       "      <td>0.015113</td>\n",
       "      <td>0.012594</td>\n",
       "      <td>0.017632</td>\n",
       "      <td>0.015113</td>\n",
       "    </tr>\n",
       "  </tbody>\n",
       "</table>\n",
       "<p>5 rows × 88 columns</p>\n",
       "</div>"
      ],
      "text/plain": [
       "                                            Sequence  Label  len     h  \\\n",
       "0  GATCCCTGCGGCGTTCGCGAGGGTGGGACGGGAAGCGGGCTGGGAA...   True  399  True   \n",
       "1  GTCACTGCCCTCGCGGCCAATCCAAGGGCTGCGCGCGTGTCCCTTA...   True  399  True   \n",
       "2  GTCACTGTCCTCGGGGCCAATCCAAGGGCTGCGCGCGTGTCCCTTA...   True  399  True   \n",
       "3  GCGGAAAACGGCAGGAGGAGAGCCAATCCCGAGGGTCGGCGGACGC...   True  399  True   \n",
       "4  TCGGCGGTGGAACCGCCAGTCCGGGGTCACAGAGCTTGAGAAGCGA...   True  399  True   \n",
       "\n",
       "                                         C2_encoding  \\\n",
       "0  [[1, 0], [0, 0], [1, 1], [0, 1], [0, 1], [0, 1...   \n",
       "1  [[1, 0], [1, 1], [0, 1], [0, 0], [0, 1], [1, 1...   \n",
       "2  [[1, 0], [1, 1], [0, 1], [0, 0], [0, 1], [1, 1...   \n",
       "3  [[1, 0], [0, 1], [1, 0], [1, 0], [0, 0], [0, 0...   \n",
       "4  [[1, 1], [0, 1], [1, 0], [1, 0], [0, 1], [1, 0...   \n",
       "\n",
       "                                         gapped_kmer  atg_freq  atg_features  \\\n",
       "0  ([GATCCC, ATCCCT, TCCCTG, CCCTGC, CCTGCG, CTGC...         2             1   \n",
       "1  ([GTCACT, TCACTG, CACTGC, ACTGCC, CTGCCC, TGCC...         2             1   \n",
       "2  ([GTCACT, TCACTG, CACTGT, ACTGTC, CTGTCC, TGTC...         2             1   \n",
       "3  ([GCGGAA, CGGAAA, GGAAAA, GAAAAC, AAAACG, AAAC...         1             1   \n",
       "4  ([TCGGCG, CGGCGG, GGCGGT, GCGGTG, CGGTGG, GGTG...         1             1   \n",
       "\n",
       "         AA        AT  ...       GTC       GTG       GCA       GCT       GCC  \\\n",
       "0  0.022613  0.025126  ...  0.017632  0.022670  0.010076  0.027708  0.022670   \n",
       "1  0.027638  0.010050  ...  0.017632  0.022670  0.015113  0.015113  0.052897   \n",
       "2  0.027638  0.012563  ...  0.015113  0.025189  0.015113  0.017632  0.045340   \n",
       "3  0.025126  0.010050  ...  0.020151  0.020151  0.015113  0.010076  0.040302   \n",
       "4  0.015075  0.012563  ...  0.017632  0.010076  0.012594  0.017632  0.068010   \n",
       "\n",
       "        GCG       GGA       GGT       GGC       GGG  \n",
       "0  0.027708  0.027708  0.035264  0.020151  0.052897  \n",
       "1  0.062972  0.022670  0.020151  0.060453  0.030227  \n",
       "2  0.068010  0.022670  0.020151  0.062972  0.035264  \n",
       "3  0.078086  0.030227  0.035264  0.080605  0.045340  \n",
       "4  0.025189  0.015113  0.012594  0.017632  0.015113  \n",
       "\n",
       "[5 rows x 88 columns]"
      ]
     },
     "execution_count": 46,
     "metadata": {},
     "output_type": "execute_result"
    }
   ],
   "source": [
    "\n",
    "# split kmer_frequencies keys as columns\n",
    "data1 = pd.concat([data1, data1['kmer_frequencies_di'].apply(pd.Series)], axis=1)\n",
    "data1 = pd.concat([data1, data1['kmer_frequencies_tri'].apply(pd.Series)], axis=1)\n",
    "data1.drop('kmer_frequencies_tri', axis=1, inplace=True)\n",
    "data1.drop('kmer_frequencies_di', axis=1, inplace=True)\n",
    "# replace nan  with 0\n",
    "data1.fillna(0, inplace=True)\n",
    "data1.head()\n"
   ]
  },
  {
   "cell_type": "code",
   "execution_count": 47,
   "metadata": {},
   "outputs": [
    {
     "data": {
      "text/plain": [
       "(2318, 88)"
      ]
     },
     "execution_count": 47,
     "metadata": {},
     "output_type": "execute_result"
    }
   ],
   "source": [
    "# check the len of gapped_kmer\n",
    "data1['gapped_kmer'].apply(len).unique()\n",
    "# label encoding of the label column\n",
    "from sklearn.preprocessing import LabelEncoder\n",
    "le = LabelEncoder()\n",
    "data1['Label'] = le.fit_transform(data1['Label'])\n",
    "data1.head()\n",
    "data1.shape\n"
   ]
  },
  {
   "cell_type": "code",
   "execution_count": 48,
   "metadata": {},
   "outputs": [
    {
     "name": "stdout",
     "output_type": "stream",
     "text": [
      "<class 'pandas.core.frame.DataFrame'>\n",
      "Int64Index: 2318 entries, 0 to 2317\n",
      "Data columns (total 88 columns):\n",
      " #   Column        Non-Null Count  Dtype  \n",
      "---  ------        --------------  -----  \n",
      " 0   Sequence      2318 non-null   object \n",
      " 1   Label         2318 non-null   int64  \n",
      " 2   len           2318 non-null   int64  \n",
      " 3   h             2318 non-null   bool   \n",
      " 4   C2_encoding   2318 non-null   object \n",
      " 5   gapped_kmer   2318 non-null   object \n",
      " 6   atg_freq      2318 non-null   int64  \n",
      " 7   atg_features  2318 non-null   int64  \n",
      " 8   AA            2318 non-null   float64\n",
      " 9   AT            2318 non-null   float64\n",
      " 10  AC            2318 non-null   float64\n",
      " 11  AG            2318 non-null   float64\n",
      " 12  TA            2318 non-null   float64\n",
      " 13  TT            2318 non-null   float64\n",
      " 14  TC            2318 non-null   float64\n",
      " 15  TG            2318 non-null   float64\n",
      " 16  CA            2318 non-null   float64\n",
      " 17  CT            2318 non-null   float64\n",
      " 18  CC            2318 non-null   float64\n",
      " 19  CG            2318 non-null   float64\n",
      " 20  GA            2318 non-null   float64\n",
      " 21  GT            2318 non-null   float64\n",
      " 22  GC            2318 non-null   float64\n",
      " 23  GG            2318 non-null   float64\n",
      " 24  AAA           2318 non-null   float64\n",
      " 25  AAT           2318 non-null   float64\n",
      " 26  AAC           2318 non-null   float64\n",
      " 27  AAG           2318 non-null   float64\n",
      " 28  ATA           2318 non-null   float64\n",
      " 29  ATT           2318 non-null   float64\n",
      " 30  ATC           2318 non-null   float64\n",
      " 31  ATG           2318 non-null   float64\n",
      " 32  ACA           2318 non-null   float64\n",
      " 33  ACT           2318 non-null   float64\n",
      " 34  ACC           2318 non-null   float64\n",
      " 35  ACG           2318 non-null   float64\n",
      " 36  AGA           2318 non-null   float64\n",
      " 37  AGT           2318 non-null   float64\n",
      " 38  AGC           2318 non-null   float64\n",
      " 39  AGG           2318 non-null   float64\n",
      " 40  TAA           2318 non-null   float64\n",
      " 41  TAT           2318 non-null   float64\n",
      " 42  TAC           2318 non-null   float64\n",
      " 43  TAG           2318 non-null   float64\n",
      " 44  TTA           2318 non-null   float64\n",
      " 45  TTT           2318 non-null   float64\n",
      " 46  TTC           2318 non-null   float64\n",
      " 47  TTG           2318 non-null   float64\n",
      " 48  TCA           2318 non-null   float64\n",
      " 49  TCT           2318 non-null   float64\n",
      " 50  TCC           2318 non-null   float64\n",
      " 51  TCG           2318 non-null   float64\n",
      " 52  TGA           2318 non-null   float64\n",
      " 53  TGT           2318 non-null   float64\n",
      " 54  TGC           2318 non-null   float64\n",
      " 55  TGG           2318 non-null   float64\n",
      " 56  CAA           2318 non-null   float64\n",
      " 57  CAT           2318 non-null   float64\n",
      " 58  CAC           2318 non-null   float64\n",
      " 59  CAG           2318 non-null   float64\n",
      " 60  CTA           2318 non-null   float64\n",
      " 61  CTT           2318 non-null   float64\n",
      " 62  CTC           2318 non-null   float64\n",
      " 63  CTG           2318 non-null   float64\n",
      " 64  CCA           2318 non-null   float64\n",
      " 65  CCT           2318 non-null   float64\n",
      " 66  CCC           2318 non-null   float64\n",
      " 67  CCG           2318 non-null   float64\n",
      " 68  CGA           2318 non-null   float64\n",
      " 69  CGT           2318 non-null   float64\n",
      " 70  CGC           2318 non-null   float64\n",
      " 71  CGG           2318 non-null   float64\n",
      " 72  GAA           2318 non-null   float64\n",
      " 73  GAT           2318 non-null   float64\n",
      " 74  GAC           2318 non-null   float64\n",
      " 75  GAG           2318 non-null   float64\n",
      " 76  GTA           2318 non-null   float64\n",
      " 77  GTT           2318 non-null   float64\n",
      " 78  GTC           2318 non-null   float64\n",
      " 79  GTG           2318 non-null   float64\n",
      " 80  GCA           2318 non-null   float64\n",
      " 81  GCT           2318 non-null   float64\n",
      " 82  GCC           2318 non-null   float64\n",
      " 83  GCG           2318 non-null   float64\n",
      " 84  GGA           2318 non-null   float64\n",
      " 85  GGT           2318 non-null   float64\n",
      " 86  GGC           2318 non-null   float64\n",
      " 87  GGG           2318 non-null   float64\n",
      "dtypes: bool(1), float64(80), int64(4), object(3)\n",
      "memory usage: 1.6+ MB\n"
     ]
    }
   ],
   "source": [
    "# pca on di kmer and tri kmer \n",
    "from sklearn.decomposition import PCA\n",
    "pca = PCA(n_components=20)\n",
    "features = pca.fit_transform(data1.iloc[:, 7:])\n",
    "\n",
    "data1.info()"
   ]
  },
  {
   "cell_type": "code",
   "execution_count": 49,
   "metadata": {},
   "outputs": [
    {
     "data": {
      "text/plain": [
       "array([[-1.79398635e+00,  5.60599667e-02, -2.09631436e-02, ...,\n",
       "        -6.43481298e-04, -8.98822008e-03,  1.26233456e-02],\n",
       "       [-1.79708680e+00,  1.50122721e-01,  6.07577946e-03, ...,\n",
       "         2.89483555e-03, -3.07385053e-03, -6.73447432e-03],\n",
       "       [-1.79705853e+00,  1.49481306e-01, -8.01013651e-04, ...,\n",
       "         2.01745074e-03,  4.41346648e-04, -6.92782148e-03],\n",
       "       ...,\n",
       "       [ 1.21152343e+00, -5.03814193e-02, -5.01503757e-02, ...,\n",
       "         3.86686148e-03, -5.57898818e-05, -5.69071658e-03],\n",
       "       [ 2.11647335e-01, -7.31042573e-02, -6.32479290e-02, ...,\n",
       "        -3.56108402e-03, -1.83378867e-04, -5.69868236e-03],\n",
       "       [-7.87806377e-01, -1.06851846e-01, -6.41792714e-02, ...,\n",
       "        -4.33084018e-03,  2.99074502e-05, -6.69111437e-03]])"
      ]
     },
     "execution_count": 49,
     "metadata": {},
     "output_type": "execute_result"
    }
   ],
   "source": [
    "features"
   ]
  },
  {
   "cell_type": "code",
   "execution_count": 50,
   "metadata": {},
   "outputs": [],
   "source": [
    "import csv\n",
    "\n",
    "with open('mmc1.csv', 'r') as file:\n",
    "    reader = csv.DictReader(file)\n",
    "    h=[]\n",
    "    for row in reader:\n",
    "        if row['Label'] == 'True':\n",
    "            h.append(1)\n",
    "        else:\n",
    "            h.append(0)\n"
   ]
  },
  {
   "cell_type": "code",
   "execution_count": 56,
   "metadata": {},
   "outputs": [
    {
     "name": "stdout",
     "output_type": "stream",
     "text": [
      "Accuracy: 0.9037356321839081\n"
     ]
    }
   ],
   "source": [
    "from sklearn.model_selection import train_test_split\n",
    "from sklearn import svm\n",
    "from sklearn.metrics import accuracy_score\n",
    "X_train, X_test, y_train, y_test = train_test_split(features, h, test_size=0.3)\n",
    "clf = svm.SVC(kernel='linear', C=1).fit(X_train, y_train)\n",
    "y_pred = clf.predict(X_test)\n",
    "print(\"Accuracy:\", accuracy_score(y_test, y_pred))\n",
    "\n",
    "\n",
    "\n"
   ]
  },
  {
   "cell_type": "code",
   "execution_count": 57,
   "metadata": {},
   "outputs": [
    {
     "data": {
      "text/plain": [
       "array([1, 0])"
      ]
     },
     "execution_count": 57,
     "metadata": {},
     "output_type": "execute_result"
    }
   ],
   "source": [
    "def predicting(a):\n",
    "    l=[]\n",
    "    l.append(atg_freq(a))\n",
    "    l.append(atg_features(a))\n",
    "    f2=list(get_kmer_frequencies(a,k=2).values())\n",
    "    f3=list(get_kmer_frequencies(a,k=3).values())\n",
    "    final=l+f2+f3\n",
    "    final=np.array(final)\n",
    "    my_dataframe=data1.iloc[:, 6:]\n",
    "    new_dataframe = pd.DataFrame([final], columns=my_dataframe.columns)\n",
    "    my_dataframe= pd.concat([my_dataframe, new_dataframe], ignore_index=True)\n",
    "    \n",
    "    pca = PCA(n_components=20)\n",
    "    last= pca.fit_transform(my_dataframe)\n",
    "    return last[-1]\n",
    "\n",
    "a=\"AAGGAGAGGCCCGGACTTGGGCATATCTGCAGAAAAACCCTTCCCCACTAGGCAGGCGCGGGGGAGGGCGTGGAGGGGCGGGGTGGTGCCGCCCCCGGGGCGGGCCCAGTGCGTGGCAGCGGGACCTGCGGCCCCGTCGCGAAGTTTCCAGCCCTGCGAGCGCCGCCGGGTCGGCCGATCGTCCCCCATACCTCGGCCATGCGGCCCCTGCTGCTACTGGCCCTGCTGGGCTGGCTGCTGCTGGCCGAAGCGAAGGGCGACGCCAAGCCGGAGGGTGAGGGAGCGAAGGCCGGGGGCGGGAGCGCGGATCCGGGCGGGAGGGCTGGTGTCGGGCTGCCTCCCTGGGAACGACCTGAATGGGAGGCCTGGGCTGGAGAGGGAGTCTGGGTTCCGGCTCCT\"\n",
    "b=\"GAAATATCACTTTGTAGATTGTACAAAAAGACTGTTTCTAAACTGCTCAATCAAAAGAAAATTTCAAACTGGTGAGATGAATGCACACATAACAAAGGAGTTTCTCAGGAATCTTTTTTTTTTATTTTCAACACTTTTTTATTTCTTTCAAAGTTAGTTTTTTAATTTATTATTATTATATTTTAAGTTTTAGGGTACATGTGCACAATGTGCAGGTTTGTTACATATGTATACATGTGCCATGCTGGTGTGCTGCACCCACTAACTCGTCATCTAGCATTAGGTATATCTCCCAATGCTATCCCTCCCCCTTCCCCCCACCCCACAACAGTCCCCAGAGTGTGATATTCCCCTTCCTGTGTCCATATGTTGCTCTCATTGTTCAATTCCCACCCATGA\"\n",
    "\n",
    "\n",
    "tis=[]\n",
    "tis.append(predicting(a))\n",
    "tis.append(predicting(b))\n",
    "y_pred = clf.predict(tis)\n",
    "y_pred\n"
   ]
  },
  {
   "cell_type": "code",
   "execution_count": 62,
   "metadata": {},
   "outputs": [
    {
     "name": "stdout",
     "output_type": "stream",
     "text": [
      "Accuracy: 0.9971264367816092\n"
     ]
    }
   ],
   "source": [
    "from sklearn.ensemble import RandomForestClassifier\n",
    "from sklearn.model_selection import train_test_split\n",
    "X_train, X_test, y_train, y_test = train_test_split(features, h, test_size=0.3)\n",
    "\n",
    "rfc = RandomForestClassifier(n_estimators=500)\n",
    "\n",
    "# Train the classifier on the training data\n",
    "rfc.fit(X_train, y_train)\n",
    "\n",
    "# Test the classifier on the testing data\n",
    "accuracy = rfc.score(X_test, y_test)\n",
    "print(\"Accuracy:\", accuracy)\n"
   ]
  },
  {
   "cell_type": "code",
   "execution_count": 63,
   "metadata": {},
   "outputs": [
    {
     "data": {
      "text/plain": [
       "array([1, 0])"
      ]
     },
     "execution_count": 63,
     "metadata": {},
     "output_type": "execute_result"
    }
   ],
   "source": [
    "a=\"AAGGAGAGGCCCGGACTTGGGCATATCTGCAGAAAAACCCTTCCCCACTAGGCAGGCGCGGGGGAGGGCGTGGAGGGGCGGGGTGGTGCCGCCCCCGGGGCGGGCCCAGTGCGTGGCAGCGGGACCTGCGGCCCCGTCGCGAAGTTTCCAGCCCTGCGAGCGCCGCCGGGTCGGCCGATCGTCCCCCATACCTCGGCCATGCGGCCCCTGCTGCTACTGGCCCTGCTGGGCTGGCTGCTGCTGGCCGAAGCGAAGGGCGACGCCAAGCCGGAGGGTGAGGGAGCGAAGGCCGGGGGCGGGAGCGCGGATCCGGGCGGGAGGGCTGGTGTCGGGCTGCCTCCCTGGGAACGACCTGAATGGGAGGCCTGGGCTGGAGAGGGAGTCTGGGTTCCGGCTCCT\"\n",
    "b=\"GAAATATCACTTTGTAGATTGTACAAAAAGACTGTTTCTAAACTGCTCAATCAAAAGAAAATTTCAAACTGGTGAGATGAATGCACACATAACAAAGGAGTTTCTCAGGAATCTTTTTTTTTTATTTTCAACACTTTTTTATTTCTTTCAAAGTTAGTTTTTTAATTTATTATTATTATATTTTAAGTTTTAGGGTACATGTGCACAATGTGCAGGTTTGTTACATATGTATACATGTGCCATGCTGGTGTGCTGCACCCACTAACTCGTCATCTAGCATTAGGTATATCTCCCAATGCTATCCCTCCCCCTTCCCCCCACCCCACAACAGTCCCCAGAGTGTGATATTCCCCTTCCTGTGTCCATATGTTGCTCTCATTGTTCAATTCCCACCCATGA\"\n",
    "\n",
    "\n",
    "tis=[]\n",
    "tis.append(predicting(a))\n",
    "tis.append(predicting(b))\n",
    "predict=rfc.predict(tis)\n",
    "predict"
   ]
  },
  {
   "cell_type": "code",
   "execution_count": null,
   "metadata": {},
   "outputs": [],
   "source": []
  },
  {
   "cell_type": "code",
   "execution_count": null,
   "metadata": {},
   "outputs": [],
   "source": []
  }
 ],
 "metadata": {
  "kernelspec": {
   "display_name": "base",
   "language": "python",
   "name": "python3"
  },
  "language_info": {
   "codemirror_mode": {
    "name": "ipython",
    "version": 3
   },
   "file_extension": ".py",
   "mimetype": "text/x-python",
   "name": "python",
   "nbconvert_exporter": "python",
   "pygments_lexer": "ipython3",
   "version": "3.9.7"
  },
  "orig_nbformat": 4
 },
 "nbformat": 4,
 "nbformat_minor": 2
}
